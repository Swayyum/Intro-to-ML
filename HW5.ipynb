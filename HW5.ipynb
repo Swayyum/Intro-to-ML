{
  "nbformat": 4,
  "nbformat_minor": 0,
  "metadata": {
    "colab": {
      "provenance": [],
      "authorship_tag": "ABX9TyNYzmF+qrVjLJ8t09El8BX8",
      "include_colab_link": true
    },
    "kernelspec": {
      "name": "python3",
      "display_name": "Python 3"
    },
    "language_info": {
      "name": "python"
    }
  },
  "cells": [
    {
      "cell_type": "markdown",
      "metadata": {
        "id": "view-in-github",
        "colab_type": "text"
      },
      "source": [
        "<a href=\"https://colab.research.google.com/github/Swayyum/Intro-to-ML--4105/blob/main/HW5.ipynb\" target=\"_parent\"><img src=\"https://colab.research.google.com/assets/colab-badge.svg\" alt=\"Open In Colab\"/></a>"
      ]
    },
    {
      "cell_type": "markdown",
      "source": [
        "# Problem 1\n",
        "\n"
      ],
      "metadata": {
        "id": "xioi-EYwgcIG"
      }
    },
    {
      "cell_type": "code",
      "execution_count": 111,
      "metadata": {
        "id": "7gX-QDa7XJJg",
        "colab": {
          "base_uri": "https://localhost:8080/"
        },
        "outputId": "9d2c1325-7f0d-42cd-b37a-6dcfbddaef0a"
      },
      "outputs": [
        {
          "output_type": "execute_result",
          "data": {
            "text/plain": [
              "tensor([1., 1., 0.], requires_grad=True)"
            ]
          },
          "metadata": {},
          "execution_count": 111
        }
      ],
      "source": [
        "import torch\n",
        "import tensorflow\n",
        "import matplotlib.pyplot as plt\n",
        "# In[2]:\n",
        "t_c = torch.tensor([0.5, 14.0, 15.0, 28.0, 11.0, 8.0, 3.0, -4.0, 6.0, 13.0, 21.0])\n",
        "t_u = torch.tensor([35.7, 55.9, 58.2, 81.9, 56.3, 48.9, 33.9, 21.8, 48.4, 60.4, 68.4])\n",
        "t_u_mean = t_u.mean()\n",
        "t_u_std = t_u.std()\n",
        "t_un = (t_u - t_u_mean) / t_u_std\n",
        "params = torch.tensor([1.0, 1.0, 0.0], requires_grad=True)\n",
        "# Clone the parameters and maintain them as leaf tensors\n",
        "trained_params = params.clone().detach()\n",
        "trained_params.requires_grad_()\n"
      ]
    },
    {
      "cell_type": "code",
      "source": [
        "def linear_model(t_u, w, b):\n",
        "    return w * t_u + b"
      ],
      "metadata": {
        "id": "6EgwRQnATKN9"
      },
      "execution_count": 112,
      "outputs": []
    },
    {
      "cell_type": "code",
      "source": [
        "def nonlinear_model(t_u, w1, w2, b):\n",
        "    return w2 * t_u ** 2 + w1 * t_u + b"
      ],
      "metadata": {
        "id": "uHdG5muebNcP"
      },
      "execution_count": 113,
      "outputs": []
    },
    {
      "cell_type": "code",
      "source": [
        "def loss_fn(t_p, t_c):\n",
        "    squared_diffs = (t_p - t_c)**2\n",
        "    return squared_diffs.mean()"
      ],
      "metadata": {
        "id": "SB6dWX2lY9P-"
      },
      "execution_count": 114,
      "outputs": []
    },
    {
      "cell_type": "code",
      "source": [
        "def train_nonlinear_model(n_epochs, learning_rate, params, t_u, t_c):\n",
        "    for epoch in range(1, n_epochs + 1):\n",
        "        # Forward pass using the nonlinear model\n",
        "        t_p = nonlinear_model(t_u, *params)\n",
        "\n",
        "        # Compute loss\n",
        "        loss = loss_fn(t_p, t_c)\n",
        "\n",
        "        # Check for NaN loss\n",
        "        if torch.isnan(loss):\n",
        "            print(f'Loss is NaN for epoch {epoch}.')\n",
        "            break\n",
        "\n",
        "        # Zero the gradients before backward pass\n",
        "        if params.grad is not None:\n",
        "            params.grad.zero_()\n",
        "\n",
        "        # Backward pass\n",
        "        loss.backward()\n",
        "\n",
        "        # Update parameters\n",
        "        with torch.no_grad():\n",
        "            params -= learning_rate * params.grad\n",
        "\n",
        "        # Report loss\n",
        "        if epoch % 500 == 0:\n",
        "            print('Epoch %d, Loss %f' % (epoch, loss.item()))\n",
        "\n",
        "    return params\n"
      ],
      "metadata": {
        "id": "FgEhGFKsZqQJ"
      },
      "execution_count": 121,
      "outputs": []
    },
    {
      "cell_type": "code",
      "source": [
        "learning_rates = [0.1, 0.01, 0.001, 0.0001]\n",
        "for lr in learning_rates:\n",
        "    print(f'\\nTraining with learning rate: {lr}')\n",
        "    # Reset the parameters for each training run\n",
        "    trained_params = params.clone().detach()\n",
        "    trained_params.requires_grad_()\n",
        "    trained_params = train_nonlinear_model(\n",
        "        n_epochs=5000,\n",
        "        learning_rate=lr,\n",
        "        params=trained_params,\n",
        "        t_u=t_un,  # Use normalized input\n",
        "        t_c=t_c\n",
        "    )"
      ],
      "metadata": {
        "id": "yHNSf73vaFXc",
        "colab": {
          "base_uri": "https://localhost:8080/"
        },
        "outputId": "91bd6363-01b9-4709-c6ae-8a14bf1d5b7c"
      },
      "execution_count": 122,
      "outputs": [
        {
          "output_type": "stream",
          "name": "stdout",
          "text": [
            "\n",
            "Training with learning rate: 0.1\n",
            "Epoch 500, Loss 2.090720\n",
            "Epoch 1000, Loss 2.090720\n",
            "Epoch 1500, Loss 2.090720\n",
            "Epoch 2000, Loss 2.090720\n",
            "Epoch 2500, Loss 2.090720\n",
            "Epoch 3000, Loss 2.090720\n",
            "Epoch 3500, Loss 2.090720\n",
            "Epoch 4000, Loss 2.090720\n",
            "Epoch 4500, Loss 2.090720\n",
            "Epoch 5000, Loss 2.090720\n",
            "\n",
            "Training with learning rate: 0.01\n",
            "Epoch 500, Loss 2.092286\n",
            "Epoch 1000, Loss 2.090720\n",
            "Epoch 1500, Loss 2.090719\n",
            "Epoch 2000, Loss 2.090719\n",
            "Epoch 2500, Loss 2.090719\n",
            "Epoch 3000, Loss 2.090719\n",
            "Epoch 3500, Loss 2.090719\n",
            "Epoch 4000, Loss 2.090719\n",
            "Epoch 4500, Loss 2.090719\n",
            "Epoch 5000, Loss 2.090719\n",
            "\n",
            "Training with learning rate: 0.001\n",
            "Epoch 500, Loss 25.740374\n",
            "Epoch 1000, Loss 8.287434\n",
            "Epoch 1500, Loss 3.992266\n",
            "Epoch 2000, Loss 2.734116\n",
            "Epoch 2500, Loss 2.320184\n",
            "Epoch 3000, Loss 2.174658\n",
            "Epoch 3500, Loss 2.121781\n",
            "Epoch 4000, Loss 2.102272\n",
            "Epoch 4500, Loss 2.095026\n",
            "Epoch 5000, Loss 2.092327\n",
            "\n",
            "Training with learning rate: 0.0001\n",
            "Epoch 500, Loss 119.458710\n",
            "Epoch 1000, Loss 95.091667\n",
            "Epoch 1500, Loss 77.399010\n",
            "Epoch 2000, Loss 64.135345\n",
            "Epoch 2500, Loss 53.900246\n",
            "Epoch 3000, Loss 45.803619\n",
            "Epoch 3500, Loss 39.266743\n",
            "Epoch 4000, Loss 33.902706\n",
            "Epoch 4500, Loss 29.445080\n",
            "Epoch 5000, Loss 25.704414\n"
          ]
        }
      ]
    },
    {
      "cell_type": "code",
      "source": [
        "best_nonlinear_params = torch.tensor([0.0001, 0.001, 0.0], requires_grad=True)\n",
        "linear_params = torch.tensor([1.0, 0.0])  # Example parameters: w, b"
      ],
      "metadata": {
        "id": "AjOz9z4EJGed"
      },
      "execution_count": 123,
      "outputs": []
    },
    {
      "cell_type": "code",
      "source": [
        "# Assuming you have defined the number of epochs and learning rate somewhere above\n",
        "n_epochs = 5000\n",
        "learning_rate = 0.00000001  # or whatever learning rate you have determined to be best\n",
        "\n",
        "# Train the nonlinear model with the correct parameters\n",
        "trained_nonlinear_params = train_nonlinear_model(\n",
        "    n_epochs=n_epochs,\n",
        "    learning_rate=learning_rate,\n",
        "    params=best_nonlinear_params,\n",
        "    t_u=t_u,\n",
        "    t_c=t_c\n",
        ")\n",
        "\n",
        "# After training, use the trained parameters to get predictions\n",
        "t_p_nonlinear = nonlinear_model(t_u, *trained_nonlinear_params).detach()\n",
        "t_p_linear = linear_model(t_u, *linear_params).detach()\n",
        "\n",
        "# Calculate the loss for each model\n",
        "nonlinear_loss = loss_fn(t_p_nonlinear, t_c)\n",
        "linear_loss = loss_fn(t_p_linear, t_c)\n",
        "\n",
        "# Print out the losses for comparison\n",
        "print(f'Non-linear Model Loss: {nonlinear_loss.item()}')\n",
        "print(f'Linear Model Loss: {linear_loss.item()}')\n",
        "\n",
        "# Plot the actual data\n",
        "plt.scatter(t_u.numpy(), t_c.numpy(), label='Actual data')\n",
        "\n",
        "# Plot the linear model predictions\n",
        "plt.plot(t_u.numpy(), t_p_linear.numpy(), label='Linear model', linestyle='--')\n",
        "\n",
        "# Plot the non-linear model predictions\n",
        "plt.plot(t_u.numpy(), t_p_nonlinear.numpy(), label='Nonlinear model', linestyle='-.')\n",
        "\n",
        "plt.legend()\n",
        "plt.xlabel('Input feature (t_u)')\n",
        "plt.ylabel('Target (t_c)')\n",
        "plt.title('Model Comparison')\n",
        "plt.show()\n"
      ],
      "metadata": {
        "colab": {
          "base_uri": "https://localhost:8080/",
          "height": 680
        },
        "id": "FSrBQr4_SpLB",
        "outputId": "6208d8db-e029-4092-b401-977b8081ce87"
      },
      "execution_count": 124,
      "outputs": [
        {
          "output_type": "stream",
          "name": "stdout",
          "text": [
            "Epoch 500, Loss 8.032533\n",
            "Epoch 1000, Loss 8.019882\n",
            "Epoch 1500, Loss 8.007269\n",
            "Epoch 2000, Loss 7.994696\n",
            "Epoch 2500, Loss 7.982159\n",
            "Epoch 3000, Loss 7.969660\n",
            "Epoch 3500, Loss 7.957199\n",
            "Epoch 4000, Loss 7.944778\n",
            "Epoch 4500, Loss 7.932393\n",
            "Epoch 5000, Loss 7.920044\n",
            "Non-linear Model Loss: 7.920019626617432\n",
            "Linear Model Loss: 1763.884765625\n"
          ]
        },
        {
          "output_type": "display_data",
          "data": {
            "text/plain": [
              "<Figure size 640x480 with 1 Axes>"
            ],
            "image/png": "[encoded data removed]"
          },
          "metadata": {}
        }
      ]
    }
  ]
}